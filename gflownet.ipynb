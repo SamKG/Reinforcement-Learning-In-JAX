{
 "cells": [
  {
   "cell_type": "code",
   "execution_count": 1,
   "metadata": {},
   "outputs": [
    {
     "name": "stdout",
     "output_type": "stream",
     "text": [
      "env: XLA_PYTHON_CLIENT_PREALLOCATE=false\n"
     ]
    }
   ],
   "source": [
    "%env XLA_PYTHON_CLIENT_PREALLOCATE=false\n",
    "import functools\n",
    "import itertools\n",
    "from jax import numpy as jnp\n",
    "import jax\n",
    "import equinox as eqx\n",
    "import distrax\n",
    "\n",
    "\n",
    "@functools.partial(jax.jit, static_argnames=[\"num_bits\"])\n",
    "def num_to_binarray(num, num_bits):\n",
    "    return jnp.array(jax.vmap(lambda i: num >> i & 1)(jnp.arange(num_bits)), dtype=jnp.int32)\n",
    "\n",
    "class GridEnv(eqx.Module):\n",
    "    state: jnp.ndarray\n",
    "    r0: float = eqx.static_field()\n",
    "    r1: float = eqx.static_field()\n",
    "    r2: float = eqx.static_field()\n",
    "    horizon: int = eqx.static_field()\n",
    "    ndim: int = eqx.static_field()\n",
    "    action_space: distrax.Categorical = eqx.static_field()\n",
    "\n",
    "    def __init__(self, horizon, r0, r1, r2, ndim=2):\n",
    "        self.state: jnp.ndarray = jnp.zeros(ndim, dtype=jnp.int32)\n",
    "        self.ndim = ndim\n",
    "        self.r0 = r0\n",
    "        self.r1 = r1\n",
    "        self.r2 = r2\n",
    "        self.horizon = horizon\n",
    "        self.action_space = distrax.Categorical(probs=jnp.ones(ndim + 1))\n",
    "\n",
    "    @eqx.filter_jit\n",
    "    def state_to_onehot(self, state):\n",
    "        '''\n",
    "        Converts a environment state to a one-hot encoded observation, for use with neural networks.\n",
    "        '''\n",
    "        observation = jnp.zeros((self.ndim*self.horizon,), dtype=jnp.float32)\n",
    "        observation = observation.at[jnp.arange(self.ndim) * self.horizon + state].set(1)\n",
    "        return observation\n",
    "\n",
    "    @eqx.filter_jit\n",
    "    def reward(self, state) -> jnp.ndarray:\n",
    "        # normalize state\n",
    "        tmp = jnp.abs(state/(self.horizon - 1) - 0.5) \n",
    "        indicator_r1 = jnp.prod(tmp > 0.25)\n",
    "        indicator_r2 = jnp.prod((tmp > 0.3) *  (tmp < 0.4))\n",
    "        r = self.r0 + self.r1 * indicator_r1 + self.r2 * indicator_r2\n",
    "        return r\n",
    "\n",
    "    @eqx.filter_jit\n",
    "    def get_all_state_rewards(self):\n",
    "        states = jnp.array(list(itertools.product(list(range(self.horizon)), repeat=self.ndim)))\n",
    "        valids = jax.vmap(self.state_valid)(states)\n",
    "        return {\n",
    "            \"states\": states,\n",
    "            \"valids\": valids,\n",
    "            \"rewards\": jax.vmap(self.reward)(states) * valids\n",
    "        }\n",
    "\n",
    "    @eqx.filter_jit\n",
    "    def state_valid(self, state):\n",
    "        '''\n",
    "        Checks if a state is in the observation space.\n",
    "        '''\n",
    "        return jnp.all(state >= 0) * jnp.all(state < self.horizon) *  (jnp.sum(state >= self.horizon - 1) <= 1)\n",
    "\n",
    "    @eqx.filter_jit\n",
    "    def step(grid, action):\n",
    "        grid = jax.lax.cond(action < grid.state.shape[0], \n",
    "            lambda _: eqx.tree_at(\n",
    "                lambda grid: grid.state, grid, grid.state.at[action].add(1)\n",
    "            ), lambda _: grid, None)\n",
    "        reward = grid.reward(grid.state)\n",
    "        stop_step = action == grid.state.shape[0]\n",
    "        horizon_finished = jnp.max(grid.state) >= grid.horizon - 1\n",
    "\n",
    "\n",
    "        done = jax.lax.cond(horizon_finished, lambda _: True,  lambda _: stop_step, None)\n",
    "        return (\n",
    "            grid,\n",
    "            reward,\n",
    "            done \n",
    "        )\n",
    "\n",
    "    @eqx.filter_jit\n",
    "    def reset(self):\n",
    "        grid = eqx.tree_at(\n",
    "            lambda grid: grid.state, self, jnp.zeros_like(self.state)\n",
    "        )\n",
    "        return grid \n",
    "\n",
    "    @eqx.filter_jit\n",
    "    def inverse_transitions(self, state):\n",
    "        '''\n",
    "        Returns a list of all possible state + /actions that can transition to the given state. \n",
    "        Each element of the resulting PyTree also has a valid boolean, indicating if the state/action is valid.\n",
    "        '''\n",
    "        def get_index_parent(idx: int):\n",
    "            tmp = state.at[idx].add(-1)\n",
    "            pred = self.state_valid(tmp)\n",
    "            return {\"states\":tmp, \"valid\":pred, \"actions\":idx}\n",
    "        return jax.vmap(get_index_parent)(jnp.arange(state.shape[0])) \n",
    "\n",
    "    \n",
    "    @eqx.filter_jit\n",
    "    def transitions(self, state):\n",
    "        def get_index_child(idx: int):\n",
    "            tmp = state.at[idx].add(1)\n",
    "            pred = self.state_valid(tmp)\n",
    "            return {\"states\":tmp, \"valid\":pred, \"actions\":idx}\n",
    "        return jax.vmap(get_index_child)(jnp.arange(state.shape[0])) \n",
    "\n"
   ]
  },
  {
   "cell_type": "code",
   "execution_count": 2,
   "metadata": {},
   "outputs": [],
   "source": [
    "from src.gflownet import FlowNetwork\n",
    "\n",
    "env = GridEnv(8, 0.1, 0.5, 2.0, 4)\n",
    "all_state_rewards = env.get_all_state_rewards()\n",
    "key = jax.random.PRNGKey(0)\n",
    "agent = FlowNetwork(\n",
    "    env.state_to_onehot(env.state).shape[0],\n",
    "    [256, 256],\n",
    "    env.action_space.logits.shape[0],\n",
    "    key,\n",
    ")\n"
   ]
  },
  {
   "cell_type": "code",
   "execution_count": 3,
   "metadata": {},
   "outputs": [
    {
     "name": "stdout",
     "output_type": "stream",
     "text": [
      "[ 562  567  602  607  877  882  917  922 3012 3017 3052 3057 3327 3332\n",
      " 3367 3372]\n",
      "[[1 1 1 1]\n",
      " [1 1 1 6]\n",
      " [1 1 6 1]\n",
      " [1 1 6 6]\n",
      " [1 6 1 1]\n",
      " [1 6 1 6]\n",
      " [1 6 6 1]\n",
      " [1 6 6 6]\n",
      " [6 1 1 1]\n",
      " [6 1 1 6]\n",
      " [6 1 6 1]\n",
      " [6 1 6 6]\n",
      " [6 6 1 1]\n",
      " [6 6 1 6]\n",
      " [6 6 6 1]\n",
      " [6 6 6 6]]\n",
      "Counter({0.10000000149011612: 3584, 0.6000000238418579: 173, 2.5999999046325684: 16})\n"
     ]
    },
    {
     "data": {
      "image/png": "[encoded data removed]",
      "text/plain": [
       "<Figure size 432x288 with 1 Axes>"
      ]
     },
     "metadata": {
      "needs_background": "light"
     },
     "output_type": "display_data"
    }
   ],
   "source": [
    "from collections import Counter\n",
    "\n",
    "\n",
    "rewards = all_state_rewards[\"rewards\"][all_state_rewards[\"valids\"] == 1]\n",
    "valid_states = all_state_rewards[\"states\"][all_state_rewards[\"valids\"] == 1]\n",
    "\n",
    "best_reward = jnp.max(rewards)\n",
    "reward_modes = jnp.argwhere(rewards == best_reward).flatten()\n",
    "print(reward_modes)\n",
    "print(valid_states[reward_modes])\n",
    "\n",
    "import seaborn as sns\n",
    "\n",
    "sns.histplot(rewards)\n",
    "\n",
    "rc = (Counter([r.item() for r in rewards]))\n",
    "\n"
   ]
  },
  {
   "cell_type": "code",
   "execution_count": 4,
   "metadata": {},
   "outputs": [],
   "source": [
    "from typing import Dict\n",
    "\n",
    "\n",
    "@eqx.filter_jit\n",
    "def policy_trajectory(\n",
    "    agent: FlowNetwork,\n",
    "    env: GridEnv,\n",
    "    steps_per_episode: int,\n",
    "    key: jax.random.KeyArray,\n",
    ") -> Dict[str, jnp.ndarray]:\n",
    "    \"\"\"\n",
    "    Collects steps_per_episode steps from the environment using the agent's policy. Note that there may be multiple terminal states in the trajectory.\n",
    "    \"\"\"\n",
    "\n",
    "    def loop(loopstate, _):\n",
    "        key = jax.random.split(loopstate[0], 2)[1]\n",
    "        env = loopstate[1]\n",
    "\n",
    "        state = env.state\n",
    "        encoded_state = env.state_to_onehot(state)\n",
    "        transitions = env.transitions(env.state)\n",
    "        flows = agent(encoded_state)\n",
    "        flows = flows * jnp.concatenate([transitions[\"valid\"], jnp.array([True])])\n",
    "        action = distrax.Categorical(logits=flows).sample(seed=key)\n",
    "        env, reward, done = env.step(action)\n",
    "        env = jax.lax.cond(done, lambda _: env.reset(), lambda _: env, None)\n",
    "        reward = jax.lax.cond(done, lambda _: reward, lambda _: 0.0, None)\n",
    "\n",
    "        return (\n",
    "            (key, env),\n",
    "            {\n",
    "                \"states\": state,\n",
    "                \"actions\": action,\n",
    "                \"rewards\": reward,\n",
    "                \"dones\": done,\n",
    "            },\n",
    "        )\n",
    "\n",
    "    (key, env), trajectory = jax.lax.scan(\n",
    "        loop, (key, env), jnp.arange(steps_per_episode)\n",
    "    )\n",
    "\n",
    "    # mask out the last episode if it is not done\n",
    "    def mask_dones(is_done, curr_done):\n",
    "        is_done = jax.lax.cond(curr_done, lambda _: True, lambda _: is_done, None)\n",
    "        return (is_done, jax.lax.cond(is_done, lambda _: 1.0, lambda _: 0.0, None))\n",
    "\n",
    "    dones_mask = jax.lax.scan(mask_dones, False, trajectory[\"dones\"], reverse=True)[1]\n",
    "\n",
    "    return trajectory\n"
   ]
  },
  {
   "cell_type": "code",
   "execution_count": 5,
   "metadata": {},
   "outputs": [],
   "source": [
    "import optax\n",
    "\n",
    "optimizer = optax.adam(1e-3)\n",
    "optimizer_state = optimizer.init(eqx.filter(agent, eqx.filters.is_array))\n"
   ]
  },
  {
   "cell_type": "code",
   "execution_count": 28,
   "metadata": {},
   "outputs": [
    {
     "name": "stderr",
     "output_type": "stream",
     "text": [
      "Loss: 1.0879134606511798e-06: 100%|██████████| 10000/10000 [01:19<00:00, 125.28it/s]\n"
     ]
    }
   ],
   "source": [
    "from src.gflownet import flow_matching_loss\n",
    "from tqdm import trange\n",
    "\n",
    "@eqx.filter_jit\n",
    "def train_flownet(agent, key, env:GridEnv, optimizer_state):\n",
    "    trajectories = jax.vmap(functools.partial(policy_trajectory, agent, env, env.ndim * env.horizon))(\n",
    "        jax.random.split(key, 16)\n",
    "    )\n",
    "\n",
    "    def loss_grad(trajectory):\n",
    "        loss, gradients = eqx.filter_value_and_grad(flow_matching_loss)(\n",
    "            agent,\n",
    "            trajectory[\"states\"],\n",
    "            trajectory[\"rewards\"],\n",
    "            trajectory[\"dones\"],\n",
    "            env.transitions,\n",
    "            env.inverse_transitions,\n",
    "            env.state_to_onehot,\n",
    "        )\n",
    "        return {\"loss\": loss, \"gradients\": gradients}\n",
    "\n",
    "    loss_grads = jax.vmap(loss_grad)(trajectories)\n",
    "    gradients_avg = jax.tree_util.tree_map(\n",
    "        lambda x: jnp.mean(x, axis=0), loss_grads[\"gradients\"]\n",
    "    )\n",
    "    updates, optimizer_state = optimizer.update(gradients_avg, optimizer_state, agent)\n",
    "    agent = eqx.apply_updates(agent, updates)\n",
    "    return loss_grads[\"loss\"].mean(), agent, env, optimizer_state\n",
    "\n",
    "\n",
    "losses = []\n",
    "keys = jax.random.split(key, 10000)\n",
    "for i in (t := trange(10000)):\n",
    "    loss, agent, env, optimizer_state = train_flownet(\n",
    "        agent, keys[i], env, optimizer_state\n",
    "    )\n",
    "    t.set_description(f\"Loss: {loss}\")\n",
    "    losses.append(loss.item())\n"
   ]
  },
  {
   "cell_type": "code",
   "execution_count": 29,
   "metadata": {},
   "outputs": [
    {
     "name": "stdout",
     "output_type": "stream",
     "text": [
      "(10000, 32, 4)\n",
      "Counter({0.6000000238418579: 9011, 0.10000000149011612: 527, 2.5999999046325684: 462})\n",
      "404\n"
     ]
    },
    {
     "data": {
      "image/png": "[encoded data removed]",
      "text/plain": [
       "<Figure size 432x288 with 1 Axes>"
      ]
     },
     "metadata": {
      "needs_background": "light"
     },
     "output_type": "display_data"
    }
   ],
   "source": [
    "import numpy\n",
    "\n",
    "keys = jax.random.split(key, 10000)\n",
    "rewards = []\n",
    "trajectories = jax.vmap(functools.partial(policy_trajectory, agent, env, env.ndim*env.horizon))(keys)\n",
    "rewards = jnp.max(trajectories[\"rewards\"], axis=-1)\n",
    "rewards_bestidx = jnp.argmax(trajectories[\"rewards\"], axis=-1)\n",
    "final_reward_action = jnp.take_along_axis(\n",
    "    trajectories[\"actions\"], rewards_bestidx[..., None], axis=-1\n",
    ")\n",
    "\n",
    "print(trajectories[\"states\"].shape)\n",
    "best_states = jax.vmap(lambda s, i: s[i])(trajectories[\"states\"], rewards_bestidx)\n",
    "\n",
    "import seaborn as sns\n",
    "\n",
    "sns.histplot(rewards)\n",
    "print(Counter([r.item() for r in rewards]))\n",
    "\n",
    "Counter([tuple(numpy.array(s).tolist()) for s in best_states])\n"
   ]
  },
  {
   "cell_type": "code",
   "execution_count": null,
   "metadata": {},
   "outputs": [],
   "source": []
  }
 ],
 "metadata": {
  "kernelspec": {
   "display_name": "Python 3.9.12 ('base')",
   "language": "python",
   "name": "python3"
  },
  "language_info": {
   "codemirror_mode": {
    "name": "ipython",
    "version": 3
   },
   "file_extension": ".py",
   "mimetype": "text/x-python",
   "name": "python",
   "nbconvert_exporter": "python",
   "pygments_lexer": "ipython3",
   "version": "3.9.12"
  },
  "orig_nbformat": 4,
  "vscode": {
   "interpreter": {
    "hash": "00438e6e6465405d7e64b7e989cc9eee8ebcecea092b0d83b9c6ec6038b09b2e"
   }
  }
 },
 "nbformat": 4,
 "nbformat_minor": 2
}
